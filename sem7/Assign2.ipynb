{
 "cells": [
  {
   "cell_type": "code",
   "execution_count": 1,
   "metadata": {},
   "outputs": [],
   "source": [
    "import os\n",
    "import sys\n",
    "\n",
    "import cv2\n",
    "import numpy as np\n",
    "\n",
    "input_f = '.\\\\datasets\\\\letters.data'"
   ]
  },
  {
   "cell_type": "code",
   "execution_count": 5,
   "metadata": {},
   "outputs": [],
   "source": [
    "import numpy as np\n",
    "#!pip install neurolab\n",
    "import neurolab as nl\n",
    "\n",
    "input_f = '.\\\\datasets\\\\letters.data'\n",
    "\n",
    "num_data = 50\n",
    "orig_labels = 'omandig'\n",
    "num_orig_labels = len(orig_labels)\n",
    "\n",
    "num_train = int(0.9*num_data)\n",
    "num_test = num_data - num_train\n",
    "\n",
    "start = 6\n",
    "end = -1"
   ]
  },
  {
   "cell_type": "code",
   "execution_count": 6,
   "metadata": {},
   "outputs": [],
   "source": [
    "data = []\n",
    "labels = []\n",
    "\n",
    "with open(input_f, 'r') as f:\n",
    "    for line in f.readlines():\n",
    "        list_vals = line.split('\\t')\n",
    "        if list_vals[1] not in orig_labels:\n",
    "            continue\n",
    "        label = np.zeros((num_orig_labels,1))\n",
    "        label[orig_labels.index(list_vals[1])]=1\n",
    "        labels.append(label)\n",
    "        \n",
    "        cur_char = np.array([float(x) for x in list_vals[start:end]])\n",
    "        data.append(cur_char)\n",
    "        \n",
    "        if len(data) >= num_data:\n",
    "            break"
   ]
  },
  {
   "cell_type": "code",
   "execution_count": 7,
   "metadata": {},
   "outputs": [
    {
     "name": "stdout",
     "output_type": "stream",
     "text": [
      "Epoch: 1000; Error: 1.3637333630604518;\n",
      "Epoch: 2000; Error: 0.4561617252124546;\n",
      "Epoch: 3000; Error: 0.25216235843739426;\n",
      "Epoch: 4000; Error: 0.1876950738338118;\n",
      "Epoch: 5000; Error: 0.11935248306332802;\n",
      "Epoch: 6000; Error: 0.09238901398376309;\n",
      "Epoch: 7000; Error: 0.05772870659651402;\n",
      "Epoch: 8000; Error: 0.05730630152312509;\n",
      "Epoch: 9000; Error: 0.032576549587419484;\n",
      "Epoch: 10000; Error: 0.05482596455853544;\n",
      "The maximum number of train epochs is reached\n"
     ]
    }
   ],
   "source": [
    "data = np.asfarray(data)\n",
    "labels = np.array(labels).reshape(num_data, num_orig_labels)\n",
    "\n",
    "num_dims = len(data[0])\n",
    "\n",
    "nn = nl.net.newff([[0,1] for _ in range(len(data[0]))], [128,16,num_orig_labels])\n",
    "nn.trainf = nl.train.train_gd\n",
    "\n",
    "error_progress = nn.train(data[:num_train,:], labels[:num_train,:], epochs=10000, show=1000, goal=0.01)"
   ]
  },
  {
   "cell_type": "code",
   "execution_count": 8,
   "metadata": {},
   "outputs": [
    {
     "name": "stdout",
     "output_type": "stream",
     "text": [
      "\n",
      " Original:  o\n",
      "Predicted:  o\n",
      "\n",
      " Original:  m\n",
      "Predicted:  n\n",
      "\n",
      " Original:  m\n",
      "Predicted:  m\n",
      "\n",
      " Original:  a\n",
      "Predicted:  o\n",
      "\n",
      " Original:  n\n",
      "Predicted:  n\n"
     ]
    }
   ],
   "source": [
    "pred_test = nn.sim(data[num_train:,:])\n",
    "for i in range(num_test):\n",
    "    print('\\n Original: ', orig_labels[np.argmax(labels[i])])\n",
    "    print('Predicted: ', orig_labels[np.argmax(pred_test[i])])"
   ]
  },
  {
   "cell_type": "code",
   "execution_count": null,
   "metadata": {},
   "outputs": [],
   "source": []
  }
 ],
 "metadata": {
  "interpreter": {
   "hash": "d62006d1f3422635846181a997a61e8ec3049f797e5d7dfe0cd1bb84092b7c19"
  },
  "kernelspec": {
   "display_name": "Python 3.9.5 64-bit",
   "language": "python",
   "name": "python3"
  },
  "language_info": {
   "codemirror_mode": {
    "name": "ipython",
    "version": 3
   },
   "file_extension": ".py",
   "mimetype": "text/x-python",
   "name": "python",
   "nbconvert_exporter": "python",
   "pygments_lexer": "ipython3",
   "version": "3.9.5"
  },
  "orig_nbformat": 4
 },
 "nbformat": 4,
 "nbformat_minor": 2
}
